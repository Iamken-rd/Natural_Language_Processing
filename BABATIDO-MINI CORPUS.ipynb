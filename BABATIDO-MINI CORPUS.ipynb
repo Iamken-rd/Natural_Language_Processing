{
  "nbformat": 4,
  "nbformat_minor": 0,
  "metadata": {
    "colab": {
      "provenance": []
    },
    "kernelspec": {
      "name": "python3",
      "display_name": "Python 3"
    },
    "language_info": {
      "name": "python"
    }
  },
  "cells": [
    {
      "cell_type": "markdown",
      "source": [
        "***TERM FREQUENCY INVERSE DOCUMENT FREQUENCY***\n",
        "\n",
        "\n",
        "*   REFRENCE  https://www.gov.scot/publications/literature-review-impact-digital-technology-learning-teaching/pages/4/\n",
        "\n",
        "\n",
        "                                       https://www.un.org/en/un75/impact-digital-technologies\n",
        "\n"
      ],
      "metadata": {
        "id": "zg_QKV8TXC03"
      }
    },
    {
      "cell_type": "code",
      "source": [
        "from gensim import corpora\n",
        "import spacy\n",
        "nlp = spacy.load('en_core_web_sm')\n",
        "\n",
        "documents = [\"The uses of digital technology and access to it appear to be critical factors.\",\n",
        "             \"Lee et al (2009) analysed how in the US 15-16 year-old learners' school behaviour and standardised test scores in literacy are related to computer use.\",\n",
        "             \"Learners were asked how many hours a day they typically used a computer for school work and for other activities.\",\n",
        "             \"The results indicated that the learners who used the computer for one hour a day for both school work and other activities had significantly better reading test scores and more positive teacher evaluations for their classroom behaviours than any other groups[5].\",\n",
        "             \"This was found while controlling for socio-economic status, which has been shown to be a predictor of test scores in other research. The analysis used data from a national 2002 longitudinal study, and it is likely that learners' usage of computers has increased and changed since that time\"]\n",
        "\n",
        "texts = []\n",
        "for document in documents:\n",
        "    text = []\n",
        "    doc = nlp(document)\n",
        "    for w in doc:\n",
        "        if not w.is_stop and not w.is_punct and not w.like_num:\n",
        "            text.append(w.lemma_)\n",
        "    texts.append(text)\n",
        "\n",
        "print(texts)\n"
      ],
      "metadata": {
        "colab": {
          "base_uri": "https://localhost:8080/"
        },
        "id": "vwympD4EXBCF",
        "outputId": "3d4051a4-893d-482c-9ed0-32cab06e9f5a"
      },
      "execution_count": 3,
      "outputs": [
        {
          "output_type": "stream",
          "name": "stdout",
          "text": [
            "[['use', 'digital', 'technology', 'access', 'appear', 'critical', 'factor'], ['Lee', 'et', 'al', 'analyse', 'year', 'old', 'learner', 'school', 'behaviour', 'standardise', 'test', 'score', 'literacy', 'relate', 'computer', 'use'], ['learner', 'ask', 'hour', 'day', 'typically', 'computer', 'school', 'work', 'activity'], ['result', 'indicate', 'learner', 'computer', 'hour', 'day', 'school', 'work', 'activity', 'significantly', 'well', 'read', 'test', 'score', 'positive', 'teacher', 'evaluation', 'classroom', 'behaviour', 'groups[5'], ['find', 'control', 'socio', 'economic', 'status', 'show', 'predictor', 'test', 'score', 'research', 'analysis', 'datum', 'national', 'longitudinal', 'study', 'likely', 'learner', 'usage', 'computer', 'increase', 'change', 'time']]\n"
          ]
        }
      ]
    },
    {
      "cell_type": "markdown",
      "source": [
        "***BOW(BOOK OF WORDS)***"
      ],
      "metadata": {
        "id": "PkRPWM5ha6Pb"
      }
    },
    {
      "cell_type": "code",
      "source": [
        "dictionary = corpora.Dictionary(texts)\n",
        "print(dictionary.token2id)"
      ],
      "metadata": {
        "colab": {
          "base_uri": "https://localhost:8080/"
        },
        "id": "1npkLoerafuw",
        "outputId": "662b686c-7276-47f2-8e07-1b6a1d75f594"
      },
      "execution_count": 4,
      "outputs": [
        {
          "output_type": "stream",
          "name": "stdout",
          "text": [
            "{'access': 0, 'appear': 1, 'critical': 2, 'digital': 3, 'factor': 4, 'technology': 5, 'use': 6, 'Lee': 7, 'al': 8, 'analyse': 9, 'behaviour': 10, 'computer': 11, 'et': 12, 'learner': 13, 'literacy': 14, 'old': 15, 'relate': 16, 'school': 17, 'score': 18, 'standardise': 19, 'test': 20, 'year': 21, 'activity': 22, 'ask': 23, 'day': 24, 'hour': 25, 'typically': 26, 'work': 27, 'classroom': 28, 'evaluation': 29, 'groups[5': 30, 'indicate': 31, 'positive': 32, 'read': 33, 'result': 34, 'significantly': 35, 'teacher': 36, 'well': 37, 'analysis': 38, 'change': 39, 'control': 40, 'datum': 41, 'economic': 42, 'find': 43, 'increase': 44, 'likely': 45, 'longitudinal': 46, 'national': 47, 'predictor': 48, 'research': 49, 'show': 50, 'socio': 51, 'status': 52, 'study': 53, 'time': 54, 'usage': 55}\n"
          ]
        }
      ]
    },
    {
      "cell_type": "markdown",
      "source": [
        "***DOCUMENT TO BAG OF WORDS***"
      ],
      "metadata": {
        "id": "LpQD7H-ibNN3"
      }
    },
    {
      "cell_type": "code",
      "source": [
        "corpus = [dictionary.doc2bow(text) for text in texts]\n",
        "corpus"
      ],
      "metadata": {
        "colab": {
          "base_uri": "https://localhost:8080/"
        },
        "id": "YysiLpVQbZlI",
        "outputId": "0bede185-5574-4b06-80e5-c2329d40b9b6"
      },
      "execution_count": 5,
      "outputs": [
        {
          "output_type": "execute_result",
          "data": {
            "text/plain": [
              "[[(0, 1), (1, 1), (2, 1), (3, 1), (4, 1), (5, 1), (6, 1)],\n",
              " [(6, 1),\n",
              "  (7, 1),\n",
              "  (8, 1),\n",
              "  (9, 1),\n",
              "  (10, 1),\n",
              "  (11, 1),\n",
              "  (12, 1),\n",
              "  (13, 1),\n",
              "  (14, 1),\n",
              "  (15, 1),\n",
              "  (16, 1),\n",
              "  (17, 1),\n",
              "  (18, 1),\n",
              "  (19, 1),\n",
              "  (20, 1),\n",
              "  (21, 1)],\n",
              " [(11, 1),\n",
              "  (13, 1),\n",
              "  (17, 1),\n",
              "  (22, 1),\n",
              "  (23, 1),\n",
              "  (24, 1),\n",
              "  (25, 1),\n",
              "  (26, 1),\n",
              "  (27, 1)],\n",
              " [(10, 1),\n",
              "  (11, 1),\n",
              "  (13, 1),\n",
              "  (17, 1),\n",
              "  (18, 1),\n",
              "  (20, 1),\n",
              "  (22, 1),\n",
              "  (24, 1),\n",
              "  (25, 1),\n",
              "  (27, 1),\n",
              "  (28, 1),\n",
              "  (29, 1),\n",
              "  (30, 1),\n",
              "  (31, 1),\n",
              "  (32, 1),\n",
              "  (33, 1),\n",
              "  (34, 1),\n",
              "  (35, 1),\n",
              "  (36, 1),\n",
              "  (37, 1)],\n",
              " [(11, 1),\n",
              "  (13, 1),\n",
              "  (18, 1),\n",
              "  (20, 1),\n",
              "  (38, 1),\n",
              "  (39, 1),\n",
              "  (40, 1),\n",
              "  (41, 1),\n",
              "  (42, 1),\n",
              "  (43, 1),\n",
              "  (44, 1),\n",
              "  (45, 1),\n",
              "  (46, 1),\n",
              "  (47, 1),\n",
              "  (48, 1),\n",
              "  (49, 1),\n",
              "  (50, 1),\n",
              "  (51, 1),\n",
              "  (52, 1),\n",
              "  (53, 1),\n",
              "  (54, 1),\n",
              "  (55, 1)]]"
            ]
          },
          "metadata": {},
          "execution_count": 5
        }
      ]
    },
    {
      "cell_type": "markdown",
      "source": [
        "***BAG OF WORDS TO TF-IDF***"
      ],
      "metadata": {
        "id": "RkPw8mEajjIw"
      }
    },
    {
      "cell_type": "code",
      "source": [
        "from gensim import models\n",
        "tfidf = models.TfidfModel(corpus)\n",
        "\n",
        "for document in tfidf[corpus]:\n",
        "       print(document)"
      ],
      "metadata": {
        "colab": {
          "base_uri": "https://localhost:8080/"
        },
        "id": "0pbaP_oMjl96",
        "outputId": "798db8d8-992f-4249-849e-4e2f5a33cd01"
      },
      "execution_count": 11,
      "outputs": [
        {
          "output_type": "stream",
          "name": "stdout",
          "text": [
            "[(0, 0.5110518855502392), (1, 0.6814025140669856), (2, 0.5110518855502392), (3, 0.11550997521548548)]\n",
            "[(4, 0.25915827346717535), (5, 0.25915827346717535), (6, 0.25915827346717535), (7, 0.17277218231145025), (8, 0.17277218231145025), (9, 0.17277218231145025), (10, 0.25915827346717535), (11, 0.25915827346717535), (12, 0.5183165469343507), (13, 0.17277218231145025), (14, 0.25915827346717535), (15, 0.17277218231145025), (16, 0.25915827346717535), (17, 0.12223955840147152), (18, 0.25915827346717535), (19, 0.17277218231145025)]\n",
            "[(3, 0.05033485498533961), (15, 0.14846465280692683), (17, 0.10504152551960777), (20, 0.22269697921039028), (21, 0.14846465280692683), (22, 0.22269697921039028), (23, 0.22269697921039028), (24, 0.22269697921039028), (25, 0.22269697921039028), (26, 0.22269697921039028), (27, 0.22269697921039028), (28, 0.22269697921039028), (29, 0.21008305103921554), (30, 0.22269697921039028), (31, 0.22269697921039028), (32, 0.22269697921039028), (33, 0.14846465280692683), (34, 0.22269697921039028), (35, 0.22269697921039028), (36, 0.22269697921039028), (37, 0.22269697921039028), (38, 0.22269697921039028), (39, 0.22269697921039028), (40, 0.10504152551960777), (41, 0.14846465280692683)]\n",
            "[(29, 0.13809198698278555), (42, 0.2927667720180471), (43, 0.2927667720180471), (44, 0.2927667720180471), (45, 0.2927667720180471), (46, 0.2927667720180471), (47, 0.2927667720180471), (48, 0.2927667720180471), (49, 0.2927667720180471), (50, 0.19517784801203136), (51, 0.2927667720180471), (52, 0.2927667720180471), (53, 0.2927667720180471)]\n",
            "[(1, 0.1961117394100049), (8, 0.3922234788200098), (9, 0.1961117394100049), (17, 0.1387527326569788), (29, 0.1387527326569788), (54, 0.29416760911500733), (55, 0.29416760911500733), (56, 0.29416760911500733), (57, 0.29416760911500733), (58, 0.29416760911500733), (59, 0.29416760911500733), (60, 0.29416760911500733), (61, 0.29416760911500733), (62, 0.1961117394100049)]\n",
            "[(3, 0.05982630227119625), (19, 0.17646005333684547), (21, 0.17646005333684547), (33, 0.17646005333684547), (63, 0.2646900800052682), (64, 0.2646900800052682), (65, 0.2646900800052682), (66, 0.17646005333684547), (67, 0.2646900800052682), (68, 0.2646900800052682), (69, 0.2646900800052682), (70, 0.2646900800052682), (71, 0.17646005333684547), (72, 0.2646900800052682), (73, 0.2646900800052682), (74, 0.2646900800052682), (75, 0.2646900800052682), (76, 0.2646900800052682)]\n",
            "[(3, 0.048876840682667795), (13, 0.14416418174573573), (40, 0.1019988616115333), (41, 0.14416418174573573), (50, 0.14416418174573573), (62, 0.14416418174573573), (66, 0.14416418174573573), (77, 0.14416418174573573), (78, 0.2162462726186036), (79, 0.2162462726186036), (80, 0.2162462726186036), (81, 0.2162462726186036), (82, 0.2162462726186036), (83, 0.2162462726186036), (84, 0.2162462726186036), (85, 0.2162462726186036), (86, 0.2162462726186036), (87, 0.2162462726186036), (88, 0.2162462726186036), (89, 0.2162462726186036), (90, 0.2162462726186036), (91, 0.2162462726186036), (92, 0.2162462726186036), (93, 0.2162462726186036), (94, 0.2162462726186036), (95, 0.2162462726186036), (96, 0.14416418174573573)]\n",
            "[(3, 0.0883071098684602), (7, 0.1302326629412423), (40, 0.09214205084640002), (71, 0.1302326629412423), (77, 0.1302326629412423), (96, 0.1302326629412423), (97, 0.19534899441186346), (98, 0.19534899441186346), (99, 0.19534899441186346), (100, 0.19534899441186346), (101, 0.19534899441186346), (102, 0.19534899441186346), (103, 0.19534899441186346), (104, 0.19534899441186346), (105, 0.19534899441186346), (106, 0.19534899441186346), (107, 0.19534899441186346), (108, 0.19534899441186346), (109, 0.19534899441186346), (110, 0.19534899441186346), (111, 0.19534899441186346), (112, 0.19534899441186346), (113, 0.19534899441186346), (114, 0.19534899441186346), (115, 0.19534899441186346), (116, 0.19534899441186346), (117, 0.19534899441186346), (118, 0.19534899441186346), (119, 0.19534899441186346), (120, 0.19534899441186346)]\n"
          ]
        }
      ]
    },
    {
      "cell_type": "markdown",
      "source": [
        "**N-GRAMMING**"
      ],
      "metadata": {
        "id": "1DS86Nddb74h"
      }
    },
    {
      "cell_type": "code",
      "source": [
        "import gensim\n",
        "bigram = gensim.models.Phrases(texts)\n",
        "texts = [bigram[line] for line in texts]\n",
        "texts"
      ],
      "metadata": {
        "colab": {
          "base_uri": "https://localhost:8080/"
        },
        "id": "ree2swG2cCG-",
        "outputId": "f15409de-606a-4c06-b466-5317f4e5a110"
      },
      "execution_count": 6,
      "outputs": [
        {
          "output_type": "execute_result",
          "data": {
            "text/plain": [
              "[['use', 'digital', 'technology', 'access', 'appear', 'critical', 'factor'],\n",
              " ['Lee',\n",
              "  'et',\n",
              "  'al',\n",
              "  'analyse',\n",
              "  'year',\n",
              "  'old',\n",
              "  'learner',\n",
              "  'school',\n",
              "  'behaviour',\n",
              "  'standardise',\n",
              "  'test',\n",
              "  'score',\n",
              "  'literacy',\n",
              "  'relate',\n",
              "  'computer',\n",
              "  'use'],\n",
              " ['learner',\n",
              "  'ask',\n",
              "  'hour',\n",
              "  'day',\n",
              "  'typically',\n",
              "  'computer',\n",
              "  'school',\n",
              "  'work',\n",
              "  'activity'],\n",
              " ['result',\n",
              "  'indicate',\n",
              "  'learner',\n",
              "  'computer',\n",
              "  'hour',\n",
              "  'day',\n",
              "  'school',\n",
              "  'work',\n",
              "  'activity',\n",
              "  'significantly',\n",
              "  'well',\n",
              "  'read',\n",
              "  'test',\n",
              "  'score',\n",
              "  'positive',\n",
              "  'teacher',\n",
              "  'evaluation',\n",
              "  'classroom',\n",
              "  'behaviour',\n",
              "  'groups[5'],\n",
              " ['find',\n",
              "  'control',\n",
              "  'socio',\n",
              "  'economic',\n",
              "  'status',\n",
              "  'show',\n",
              "  'predictor',\n",
              "  'test',\n",
              "  'score',\n",
              "  'research',\n",
              "  'analysis',\n",
              "  'datum',\n",
              "  'national',\n",
              "  'longitudinal',\n",
              "  'study',\n",
              "  'likely',\n",
              "  'learner',\n",
              "  'usage',\n",
              "  'computer',\n",
              "  'increase',\n",
              "  'change',\n",
              "  'time']]"
            ]
          },
          "metadata": {},
          "execution_count": 6
        }
      ]
    },
    {
      "cell_type": "markdown",
      "source": [
        "***TERM FREQUENCY INVERSE DOCUMENT FREQUENCY***\n",
        "\n",
        "\n",
        "*   REFRENCE  https://online.ucpress.edu/gp/article/2/1/27353/118411/How-Is-Technology-Changing-the-World-and-How\n",
        "\n",
        "\n",
        "                         https://online.ucpress.edu/gp/article/2/1/27353/118411/How-Is-Technology-Changing-the-World-and-How\n",
        "\n"
      ],
      "metadata": {
        "id": "c_Kg8g3Mcann"
      }
    },
    {
      "cell_type": "code",
      "source": [
        "from gensim import corpora\n",
        "import spacy\n",
        "nlp = spacy.load('en_core_web_sm')\n",
        "\n",
        "documents = [\"Technologies are becoming increasingly complicated and increasingly interconnected.\",\n",
        "             \"Cars, airplanes, medical devices, financial transactions, and electricity systems all rely on more computer software than they ever have before, making them seem both harder to understand and, in some cases, harder to control.\",\n",
        "             \"Government and corporate surveillance of individuals and information processing relies largely on digital technologies and artificial intelligence, and therefore involves less human-to-human contact than ever before and more opportunities for biases to be embedded and codified in our technological systems in ways we may not even be able to identify or recognize.\",\n",
        "             \"Bioengineering advances are opening up new terrain for challenging philosophical, political, and economic questions regarding human-natural relations.\",\n",
        "             \"Additionally, the management of these large and small devices and systems is increasingly done through the cloud, so that control over them is both very remote and removed from direct human or social control.\"\n",
        "             ,\"The study of how to make technologies like artificial intelligence or the Internet of Things “explainable” has become its own area of research because it is so difficult to understand how they work or what is at fault when something goes wrong (Gunning and Aha 2019).\"\n",
        "             ,\"This growing complexity makes it more difficult than ever—and more imperative than ever—for scholars to probe how technological advancements are altering life around the world in both positive and negative ways and what social, political, and legal tools are needed to help shape the development and design of technology in beneficial directions.\"\n",
        "             ,\"This can seem like an impossible task in light of the rapid pace of technological change and the sense that its continued advancement is inevitable, but many countries around the world are only just beginning to take significant steps toward regulating computer technologies and are still in the process of radically rethinking the rules governing global data flows and exchange of technology across borders.\"]\n",
        "\n",
        "texts = []\n",
        "for document in documents:\n",
        "    text = []\n",
        "    doc = nlp(document)\n",
        "    for w in doc:\n",
        "        if not w.is_stop and not w.is_punct and not w.like_num:\n",
        "            text.append(w.lemma_)\n",
        "    texts.append(text)\n",
        "\n",
        "print(texts)"
      ],
      "metadata": {
        "colab": {
          "base_uri": "https://localhost:8080/"
        },
        "id": "Eyq8HmyYc_1O",
        "outputId": "5d021441-69ad-43d8-e688-0e65cb08781d"
      },
      "execution_count": 7,
      "outputs": [
        {
          "output_type": "stream",
          "name": "stdout",
          "text": [
            "[['technology', 'increasingly', 'complicated', 'increasingly', 'interconnected'], ['car', 'airplane', 'medical', 'device', 'financial', 'transaction', 'electricity', 'system', 'rely', 'computer', 'software', 'make', 'hard', 'understand', 'case', 'hard', 'control'], ['government', 'corporate', 'surveillance', 'individual', 'information', 'processing', 'rely', 'largely', 'digital', 'technology', 'artificial', 'intelligence', 'involve', 'human', 'human', 'contact', 'opportunity', 'bias', 'embed', 'codify', 'technological', 'system', 'way', 'able', 'identify', 'recognize'], ['bioengineere', 'advance', 'open', 'new', 'terrain', 'challenge', 'philosophical', 'political', 'economic', 'question', 'human', 'natural', 'relation'], ['additionally', 'management', 'large', 'small', 'device', 'system', 'increasingly', 'cloud', 'control', 'remote', 'remove', 'direct', 'human', 'social', 'control'], ['study', 'technology', 'like', 'artificial', 'intelligence', 'internet', 'thing', 'explainable', 'area', 'research', 'difficult', 'understand', 'work', 'fault', 'go', 'wrong', 'Gunning', 'Aha'], ['grow', 'complexity', 'make', 'difficult', 'imperative', 'scholar', 'probe', 'technological', 'advancement', 'alter', 'life', 'world', 'positive', 'negative', 'way', 'social', 'political', 'legal', 'tool', 'need', 'help', 'shape', 'development', 'design', 'technology', 'beneficial', 'direction'], ['like', 'impossible', 'task', 'light', 'rapid', 'pace', 'technological', 'change', 'sense', 'continue', 'advancement', 'inevitable', 'country', 'world', 'begin', 'significant', 'step', 'regulate', 'computer', 'technology', 'process', 'radically', 'rethink', 'rule', 'govern', 'global', 'datum', 'flow', 'exchange', 'technology', 'border']]\n"
          ]
        }
      ]
    },
    {
      "cell_type": "markdown",
      "source": [
        "***BOW(BOOK OF WORDS)***"
      ],
      "metadata": {
        "id": "Bgiwg2Mhebhs"
      }
    },
    {
      "cell_type": "code",
      "source": [
        "dictionary = corpora.Dictionary(texts)\n",
        "print(dictionary.token2id)"
      ],
      "metadata": {
        "colab": {
          "base_uri": "https://localhost:8080/"
        },
        "id": "iUEK3s9Zeo1E",
        "outputId": "f576f69b-30d0-45ce-9e27-6add9012bcb4"
      },
      "execution_count": 8,
      "outputs": [
        {
          "output_type": "stream",
          "name": "stdout",
          "text": [
            "{'complicated': 0, 'increasingly': 1, 'interconnected': 2, 'technology': 3, 'airplane': 4, 'car': 5, 'case': 6, 'computer': 7, 'control': 8, 'device': 9, 'electricity': 10, 'financial': 11, 'hard': 12, 'make': 13, 'medical': 14, 'rely': 15, 'software': 16, 'system': 17, 'transaction': 18, 'understand': 19, 'able': 20, 'artificial': 21, 'bias': 22, 'codify': 23, 'contact': 24, 'corporate': 25, 'digital': 26, 'embed': 27, 'government': 28, 'human': 29, 'identify': 30, 'individual': 31, 'information': 32, 'intelligence': 33, 'involve': 34, 'largely': 35, 'opportunity': 36, 'processing': 37, 'recognize': 38, 'surveillance': 39, 'technological': 40, 'way': 41, 'advance': 42, 'bioengineere': 43, 'challenge': 44, 'economic': 45, 'natural': 46, 'new': 47, 'open': 48, 'philosophical': 49, 'political': 50, 'question': 51, 'relation': 52, 'terrain': 53, 'additionally': 54, 'cloud': 55, 'direct': 56, 'large': 57, 'management': 58, 'remote': 59, 'remove': 60, 'small': 61, 'social': 62, 'Aha': 63, 'Gunning': 64, 'area': 65, 'difficult': 66, 'explainable': 67, 'fault': 68, 'go': 69, 'internet': 70, 'like': 71, 'research': 72, 'study': 73, 'thing': 74, 'work': 75, 'wrong': 76, 'advancement': 77, 'alter': 78, 'beneficial': 79, 'complexity': 80, 'design': 81, 'development': 82, 'direction': 83, 'grow': 84, 'help': 85, 'imperative': 86, 'legal': 87, 'life': 88, 'need': 89, 'negative': 90, 'positive': 91, 'probe': 92, 'scholar': 93, 'shape': 94, 'tool': 95, 'world': 96, 'begin': 97, 'border': 98, 'change': 99, 'continue': 100, 'country': 101, 'datum': 102, 'exchange': 103, 'flow': 104, 'global': 105, 'govern': 106, 'impossible': 107, 'inevitable': 108, 'light': 109, 'pace': 110, 'process': 111, 'radically': 112, 'rapid': 113, 'regulate': 114, 'rethink': 115, 'rule': 116, 'sense': 117, 'significant': 118, 'step': 119, 'task': 120}\n"
          ]
        }
      ]
    },
    {
      "cell_type": "markdown",
      "source": [
        "***DOCUMENT TO BAG OF WORDS***"
      ],
      "metadata": {
        "id": "m6Zlu3aCfWq-"
      }
    },
    {
      "cell_type": "code",
      "source": [
        "import gensim\n",
        "bigram = gensim.models.Phrases(texts)\n",
        "texts = [bigram[line] for line in texts]\n",
        "texts"
      ],
      "metadata": {
        "colab": {
          "base_uri": "https://localhost:8080/"
        },
        "id": "qoWOTz7HgID4",
        "outputId": "c7742e83-92ab-4fd5-fac7-dd63dc47551c"
      },
      "execution_count": 10,
      "outputs": [
        {
          "output_type": "execute_result",
          "data": {
            "text/plain": [
              "[['technology',\n",
              "  'increasingly',\n",
              "  'complicated',\n",
              "  'increasingly',\n",
              "  'interconnected'],\n",
              " ['car',\n",
              "  'airplane',\n",
              "  'medical',\n",
              "  'device',\n",
              "  'financial',\n",
              "  'transaction',\n",
              "  'electricity',\n",
              "  'system',\n",
              "  'rely',\n",
              "  'computer',\n",
              "  'software',\n",
              "  'make',\n",
              "  'hard',\n",
              "  'understand',\n",
              "  'case',\n",
              "  'hard',\n",
              "  'control'],\n",
              " ['government',\n",
              "  'corporate',\n",
              "  'surveillance',\n",
              "  'individual',\n",
              "  'information',\n",
              "  'processing',\n",
              "  'rely',\n",
              "  'largely',\n",
              "  'digital',\n",
              "  'technology',\n",
              "  'artificial',\n",
              "  'intelligence',\n",
              "  'involve',\n",
              "  'human',\n",
              "  'human',\n",
              "  'contact',\n",
              "  'opportunity',\n",
              "  'bias',\n",
              "  'embed',\n",
              "  'codify',\n",
              "  'technological',\n",
              "  'system',\n",
              "  'way',\n",
              "  'able',\n",
              "  'identify',\n",
              "  'recognize'],\n",
              " ['bioengineere',\n",
              "  'advance',\n",
              "  'open',\n",
              "  'new',\n",
              "  'terrain',\n",
              "  'challenge',\n",
              "  'philosophical',\n",
              "  'political',\n",
              "  'economic',\n",
              "  'question',\n",
              "  'human',\n",
              "  'natural',\n",
              "  'relation'],\n",
              " ['additionally',\n",
              "  'management',\n",
              "  'large',\n",
              "  'small',\n",
              "  'device',\n",
              "  'system',\n",
              "  'increasingly',\n",
              "  'cloud',\n",
              "  'control',\n",
              "  'remote',\n",
              "  'remove',\n",
              "  'direct',\n",
              "  'human',\n",
              "  'social',\n",
              "  'control'],\n",
              " ['study',\n",
              "  'technology',\n",
              "  'like',\n",
              "  'artificial',\n",
              "  'intelligence',\n",
              "  'internet',\n",
              "  'thing',\n",
              "  'explainable',\n",
              "  'area',\n",
              "  'research',\n",
              "  'difficult',\n",
              "  'understand',\n",
              "  'work',\n",
              "  'fault',\n",
              "  'go',\n",
              "  'wrong',\n",
              "  'Gunning',\n",
              "  'Aha'],\n",
              " ['grow',\n",
              "  'complexity',\n",
              "  'make',\n",
              "  'difficult',\n",
              "  'imperative',\n",
              "  'scholar',\n",
              "  'probe',\n",
              "  'technological',\n",
              "  'advancement',\n",
              "  'alter',\n",
              "  'life',\n",
              "  'world',\n",
              "  'positive',\n",
              "  'negative',\n",
              "  'way',\n",
              "  'social',\n",
              "  'political',\n",
              "  'legal',\n",
              "  'tool',\n",
              "  'need',\n",
              "  'help',\n",
              "  'shape',\n",
              "  'development',\n",
              "  'design',\n",
              "  'technology',\n",
              "  'beneficial',\n",
              "  'direction'],\n",
              " ['like',\n",
              "  'impossible',\n",
              "  'task',\n",
              "  'light',\n",
              "  'rapid',\n",
              "  'pace',\n",
              "  'technological',\n",
              "  'change',\n",
              "  'sense',\n",
              "  'continue',\n",
              "  'advancement',\n",
              "  'inevitable',\n",
              "  'country',\n",
              "  'world',\n",
              "  'begin',\n",
              "  'significant',\n",
              "  'step',\n",
              "  'regulate',\n",
              "  'computer',\n",
              "  'technology',\n",
              "  'process',\n",
              "  'radically',\n",
              "  'rethink',\n",
              "  'rule',\n",
              "  'govern',\n",
              "  'global',\n",
              "  'datum',\n",
              "  'flow',\n",
              "  'exchange',\n",
              "  'technology',\n",
              "  'border']]"
            ]
          },
          "metadata": {},
          "execution_count": 10
        }
      ]
    },
    {
      "cell_type": "markdown",
      "source": [
        "***BAG OF WORDS TO TF-IDF***"
      ],
      "metadata": {
        "id": "G5mTb9sLj83K"
      }
    },
    {
      "cell_type": "code",
      "source": [
        "from gensim import models\n",
        "tfidf = models.TfidfModel(corpus)\n",
        "\n",
        "for document in tfidf[corpus]:\n",
        "       print(document)"
      ],
      "metadata": {
        "colab": {
          "base_uri": "https://localhost:8080/"
        },
        "id": "Or7orKC2kFy3",
        "outputId": "e16c823a-f81d-4194-bfcd-1b3750954125"
      },
      "execution_count": 12,
      "outputs": [
        {
          "output_type": "stream",
          "name": "stdout",
          "text": [
            "[(0, 0.5110518855502392), (1, 0.6814025140669856), (2, 0.5110518855502392), (3, 0.11550997521548548)]\n",
            "[(4, 0.25915827346717535), (5, 0.25915827346717535), (6, 0.25915827346717535), (7, 0.17277218231145025), (8, 0.17277218231145025), (9, 0.17277218231145025), (10, 0.25915827346717535), (11, 0.25915827346717535), (12, 0.5183165469343507), (13, 0.17277218231145025), (14, 0.25915827346717535), (15, 0.17277218231145025), (16, 0.25915827346717535), (17, 0.12223955840147152), (18, 0.25915827346717535), (19, 0.17277218231145025)]\n",
            "[(3, 0.05033485498533961), (15, 0.14846465280692683), (17, 0.10504152551960777), (20, 0.22269697921039028), (21, 0.14846465280692683), (22, 0.22269697921039028), (23, 0.22269697921039028), (24, 0.22269697921039028), (25, 0.22269697921039028), (26, 0.22269697921039028), (27, 0.22269697921039028), (28, 0.22269697921039028), (29, 0.21008305103921554), (30, 0.22269697921039028), (31, 0.22269697921039028), (32, 0.22269697921039028), (33, 0.14846465280692683), (34, 0.22269697921039028), (35, 0.22269697921039028), (36, 0.22269697921039028), (37, 0.22269697921039028), (38, 0.22269697921039028), (39, 0.22269697921039028), (40, 0.10504152551960777), (41, 0.14846465280692683)]\n",
            "[(29, 0.13809198698278555), (42, 0.2927667720180471), (43, 0.2927667720180471), (44, 0.2927667720180471), (45, 0.2927667720180471), (46, 0.2927667720180471), (47, 0.2927667720180471), (48, 0.2927667720180471), (49, 0.2927667720180471), (50, 0.19517784801203136), (51, 0.2927667720180471), (52, 0.2927667720180471), (53, 0.2927667720180471)]\n",
            "[(1, 0.1961117394100049), (8, 0.3922234788200098), (9, 0.1961117394100049), (17, 0.1387527326569788), (29, 0.1387527326569788), (54, 0.29416760911500733), (55, 0.29416760911500733), (56, 0.29416760911500733), (57, 0.29416760911500733), (58, 0.29416760911500733), (59, 0.29416760911500733), (60, 0.29416760911500733), (61, 0.29416760911500733), (62, 0.1961117394100049)]\n",
            "[(3, 0.05982630227119625), (19, 0.17646005333684547), (21, 0.17646005333684547), (33, 0.17646005333684547), (63, 0.2646900800052682), (64, 0.2646900800052682), (65, 0.2646900800052682), (66, 0.17646005333684547), (67, 0.2646900800052682), (68, 0.2646900800052682), (69, 0.2646900800052682), (70, 0.2646900800052682), (71, 0.17646005333684547), (72, 0.2646900800052682), (73, 0.2646900800052682), (74, 0.2646900800052682), (75, 0.2646900800052682), (76, 0.2646900800052682)]\n",
            "[(3, 0.048876840682667795), (13, 0.14416418174573573), (40, 0.1019988616115333), (41, 0.14416418174573573), (50, 0.14416418174573573), (62, 0.14416418174573573), (66, 0.14416418174573573), (77, 0.14416418174573573), (78, 0.2162462726186036), (79, 0.2162462726186036), (80, 0.2162462726186036), (81, 0.2162462726186036), (82, 0.2162462726186036), (83, 0.2162462726186036), (84, 0.2162462726186036), (85, 0.2162462726186036), (86, 0.2162462726186036), (87, 0.2162462726186036), (88, 0.2162462726186036), (89, 0.2162462726186036), (90, 0.2162462726186036), (91, 0.2162462726186036), (92, 0.2162462726186036), (93, 0.2162462726186036), (94, 0.2162462726186036), (95, 0.2162462726186036), (96, 0.14416418174573573)]\n",
            "[(3, 0.0883071098684602), (7, 0.1302326629412423), (40, 0.09214205084640002), (71, 0.1302326629412423), (77, 0.1302326629412423), (96, 0.1302326629412423), (97, 0.19534899441186346), (98, 0.19534899441186346), (99, 0.19534899441186346), (100, 0.19534899441186346), (101, 0.19534899441186346), (102, 0.19534899441186346), (103, 0.19534899441186346), (104, 0.19534899441186346), (105, 0.19534899441186346), (106, 0.19534899441186346), (107, 0.19534899441186346), (108, 0.19534899441186346), (109, 0.19534899441186346), (110, 0.19534899441186346), (111, 0.19534899441186346), (112, 0.19534899441186346), (113, 0.19534899441186346), (114, 0.19534899441186346), (115, 0.19534899441186346), (116, 0.19534899441186346), (117, 0.19534899441186346), (118, 0.19534899441186346), (119, 0.19534899441186346), (120, 0.19534899441186346)]\n"
          ]
        }
      ]
    },
    {
      "cell_type": "markdown",
      "source": [
        "***N-GRAMMING***"
      ],
      "metadata": {
        "id": "cGOSEqcifx5R"
      }
    },
    {
      "cell_type": "code",
      "source": [
        "corpus = [dictionary.doc2bow(text) for text in texts]\n",
        "corpus"
      ],
      "metadata": {
        "colab": {
          "base_uri": "https://localhost:8080/"
        },
        "id": "ugfXZjNeffVW",
        "outputId": "f04453d8-d7f4-4455-b6b9-724828e64f9e"
      },
      "execution_count": 9,
      "outputs": [
        {
          "output_type": "execute_result",
          "data": {
            "text/plain": [
              "[[(0, 1), (1, 2), (2, 1), (3, 1)],\n",
              " [(4, 1),\n",
              "  (5, 1),\n",
              "  (6, 1),\n",
              "  (7, 1),\n",
              "  (8, 1),\n",
              "  (9, 1),\n",
              "  (10, 1),\n",
              "  (11, 1),\n",
              "  (12, 2),\n",
              "  (13, 1),\n",
              "  (14, 1),\n",
              "  (15, 1),\n",
              "  (16, 1),\n",
              "  (17, 1),\n",
              "  (18, 1),\n",
              "  (19, 1)],\n",
              " [(3, 1),\n",
              "  (15, 1),\n",
              "  (17, 1),\n",
              "  (20, 1),\n",
              "  (21, 1),\n",
              "  (22, 1),\n",
              "  (23, 1),\n",
              "  (24, 1),\n",
              "  (25, 1),\n",
              "  (26, 1),\n",
              "  (27, 1),\n",
              "  (28, 1),\n",
              "  (29, 2),\n",
              "  (30, 1),\n",
              "  (31, 1),\n",
              "  (32, 1),\n",
              "  (33, 1),\n",
              "  (34, 1),\n",
              "  (35, 1),\n",
              "  (36, 1),\n",
              "  (37, 1),\n",
              "  (38, 1),\n",
              "  (39, 1),\n",
              "  (40, 1),\n",
              "  (41, 1)],\n",
              " [(29, 1),\n",
              "  (42, 1),\n",
              "  (43, 1),\n",
              "  (44, 1),\n",
              "  (45, 1),\n",
              "  (46, 1),\n",
              "  (47, 1),\n",
              "  (48, 1),\n",
              "  (49, 1),\n",
              "  (50, 1),\n",
              "  (51, 1),\n",
              "  (52, 1),\n",
              "  (53, 1)],\n",
              " [(1, 1),\n",
              "  (8, 2),\n",
              "  (9, 1),\n",
              "  (17, 1),\n",
              "  (29, 1),\n",
              "  (54, 1),\n",
              "  (55, 1),\n",
              "  (56, 1),\n",
              "  (57, 1),\n",
              "  (58, 1),\n",
              "  (59, 1),\n",
              "  (60, 1),\n",
              "  (61, 1),\n",
              "  (62, 1)],\n",
              " [(3, 1),\n",
              "  (19, 1),\n",
              "  (21, 1),\n",
              "  (33, 1),\n",
              "  (63, 1),\n",
              "  (64, 1),\n",
              "  (65, 1),\n",
              "  (66, 1),\n",
              "  (67, 1),\n",
              "  (68, 1),\n",
              "  (69, 1),\n",
              "  (70, 1),\n",
              "  (71, 1),\n",
              "  (72, 1),\n",
              "  (73, 1),\n",
              "  (74, 1),\n",
              "  (75, 1),\n",
              "  (76, 1)],\n",
              " [(3, 1),\n",
              "  (13, 1),\n",
              "  (40, 1),\n",
              "  (41, 1),\n",
              "  (50, 1),\n",
              "  (62, 1),\n",
              "  (66, 1),\n",
              "  (77, 1),\n",
              "  (78, 1),\n",
              "  (79, 1),\n",
              "  (80, 1),\n",
              "  (81, 1),\n",
              "  (82, 1),\n",
              "  (83, 1),\n",
              "  (84, 1),\n",
              "  (85, 1),\n",
              "  (86, 1),\n",
              "  (87, 1),\n",
              "  (88, 1),\n",
              "  (89, 1),\n",
              "  (90, 1),\n",
              "  (91, 1),\n",
              "  (92, 1),\n",
              "  (93, 1),\n",
              "  (94, 1),\n",
              "  (95, 1),\n",
              "  (96, 1)],\n",
              " [(3, 2),\n",
              "  (7, 1),\n",
              "  (40, 1),\n",
              "  (71, 1),\n",
              "  (77, 1),\n",
              "  (96, 1),\n",
              "  (97, 1),\n",
              "  (98, 1),\n",
              "  (99, 1),\n",
              "  (100, 1),\n",
              "  (101, 1),\n",
              "  (102, 1),\n",
              "  (103, 1),\n",
              "  (104, 1),\n",
              "  (105, 1),\n",
              "  (106, 1),\n",
              "  (107, 1),\n",
              "  (108, 1),\n",
              "  (109, 1),\n",
              "  (110, 1),\n",
              "  (111, 1),\n",
              "  (112, 1),\n",
              "  (113, 1),\n",
              "  (114, 1),\n",
              "  (115, 1),\n",
              "  (116, 1),\n",
              "  (117, 1),\n",
              "  (118, 1),\n",
              "  (119, 1),\n",
              "  (120, 1)]]"
            ]
          },
          "metadata": {},
          "execution_count": 9
        }
      ]
    },
    {
      "cell_type": "markdown",
      "source": [
        "***TERM FREQUENCY INVERSE DOCUMENT FREQUENCY***\n",
        "\n",
        "\n",
        "*   REFRENCE  https://www.ncbi.nlm.nih.gov/pmc/articles/PMC9684747/\n",
        "\n",
        "\n",
        "                                      https://www.ncbi.nlm.nih.gov/pmc/articles/PMC9684747/\n",
        "\n"
      ],
      "metadata": {
        "id": "8cnLHF-ckqqO"
      }
    },
    {
      "cell_type": "code",
      "source": [
        "from gensim import corpora\n",
        "import spacy\n",
        "nlp = spacy.load('en_core_web_sm')\n",
        "\n",
        "documents = [\"Digital technologies have brought changes to the nature and scope of education and led education systems worldwide to adopt strategies and policies for ICT integration.\",\n",
        "             \"The latter brought about issues regarding the quality of teaching and learning with ICTs, especially concerning the understanding, adaptation, and design of the education systems in accordance with current technological trends..\",\n",
        "             \"These issues were emphasized during the recent COVID-19 pandemic that accelerated the use of digital technologies in education, generating questions regarding digitalization in schools.\",\n",
        "             \"Specifically, many schools demonstrated a lack of experience and low digital capacity, which resulted in widening gaps, inequalities, and learning losses.\",\n",
        "             \"Such results have engendered the need for schools to learn and build upon the experience to enhance their digital capacity and preparedness, increase their digitalization levels, and achieve a successful digital transformation.\"]\n",
        "\n",
        "texts = []\n",
        "for document in documents:\n",
        "    text = []\n",
        "    doc = nlp(document)\n",
        "    for w in doc:\n",
        "        if not w.is_stop and not w.is_punct and not w.like_num:\n",
        "            text.append(w.lemma_)\n",
        "    texts.append(text)\n",
        "\n",
        "print(texts)"
      ],
      "metadata": {
        "colab": {
          "base_uri": "https://localhost:8080/"
        },
        "id": "0Th2Lu5zpHJB",
        "outputId": "74e75046-e5d9-4669-c44c-b9e68e19ad6b"
      },
      "execution_count": 13,
      "outputs": [
        {
          "output_type": "stream",
          "name": "stdout",
          "text": [
            "[['digital', 'technology', 'bring', 'change', 'nature', 'scope', 'education', 'lead', 'education', 'system', 'worldwide', 'adopt', 'strategy', 'policy', 'ICT', 'integration'], ['bring', 'issue', 'quality', 'teaching', 'learn', 'ict', 'especially', 'concern', 'understanding', 'adaptation', 'design', 'education', 'system', 'accordance', 'current', 'technological', 'trend'], ['issue', 'emphasize', 'recent', 'COVID-19', 'pandemic', 'accelerate', 'use', 'digital', 'technology', 'education', 'generate', 'question', 'digitalization', 'school'], ['specifically', 'school', 'demonstrate', 'lack', 'experience', 'low', 'digital', 'capacity', 'result', 'widen', 'gap', 'inequality', 'learn', 'loss'], ['result', 'engender', 'need', 'school', 'learn', 'build', 'experience', 'enhance', 'digital', 'capacity', 'preparedness', 'increase', 'digitalization', 'level', 'achieve', 'successful', 'digital', 'transformation']]\n"
          ]
        }
      ]
    },
    {
      "cell_type": "markdown",
      "source": [
        "***BOOK OF WORDS***"
      ],
      "metadata": {
        "id": "qQhyf3c-qA-i"
      }
    },
    {
      "cell_type": "code",
      "source": [
        "dictionary = corpora.Dictionary(texts)\n",
        "print(dictionary.token2id)"
      ],
      "metadata": {
        "colab": {
          "base_uri": "https://localhost:8080/"
        },
        "id": "TNFCGspCqEGv",
        "outputId": "24a5d1ec-48c9-4a62-83b7-572787d33acc"
      },
      "execution_count": 14,
      "outputs": [
        {
          "output_type": "stream",
          "name": "stdout",
          "text": [
            "{'ICT': 0, 'adopt': 1, 'bring': 2, 'change': 3, 'digital': 4, 'education': 5, 'integration': 6, 'lead': 7, 'nature': 8, 'policy': 9, 'scope': 10, 'strategy': 11, 'system': 12, 'technology': 13, 'worldwide': 14, 'accordance': 15, 'adaptation': 16, 'concern': 17, 'current': 18, 'design': 19, 'especially': 20, 'ict': 21, 'issue': 22, 'learn': 23, 'quality': 24, 'teaching': 25, 'technological': 26, 'trend': 27, 'understanding': 28, 'COVID-19': 29, 'accelerate': 30, 'digitalization': 31, 'emphasize': 32, 'generate': 33, 'pandemic': 34, 'question': 35, 'recent': 36, 'school': 37, 'use': 38, 'capacity': 39, 'demonstrate': 40, 'experience': 41, 'gap': 42, 'inequality': 43, 'lack': 44, 'loss': 45, 'low': 46, 'result': 47, 'specifically': 48, 'widen': 49, 'achieve': 50, 'build': 51, 'engender': 52, 'enhance': 53, 'increase': 54, 'level': 55, 'need': 56, 'preparedness': 57, 'successful': 58, 'transformation': 59}\n"
          ]
        }
      ]
    },
    {
      "cell_type": "markdown",
      "source": [
        "***DOCUMENTS TO BAG OF WORDS***"
      ],
      "metadata": {
        "id": "GZ9WFFB-qXj9"
      }
    },
    {
      "cell_type": "code",
      "source": [
        "corpus = [dictionary.doc2bow(text) for text in texts]\n",
        "corpus"
      ],
      "metadata": {
        "colab": {
          "base_uri": "https://localhost:8080/"
        },
        "id": "nQgtExb0qcIt",
        "outputId": "260323a6-2ee9-4a2e-e2d0-30670ba4dfd1"
      },
      "execution_count": 15,
      "outputs": [
        {
          "output_type": "execute_result",
          "data": {
            "text/plain": [
              "[[(0, 1),\n",
              "  (1, 1),\n",
              "  (2, 1),\n",
              "  (3, 1),\n",
              "  (4, 1),\n",
              "  (5, 2),\n",
              "  (6, 1),\n",
              "  (7, 1),\n",
              "  (8, 1),\n",
              "  (9, 1),\n",
              "  (10, 1),\n",
              "  (11, 1),\n",
              "  (12, 1),\n",
              "  (13, 1),\n",
              "  (14, 1)],\n",
              " [(2, 1),\n",
              "  (5, 1),\n",
              "  (12, 1),\n",
              "  (15, 1),\n",
              "  (16, 1),\n",
              "  (17, 1),\n",
              "  (18, 1),\n",
              "  (19, 1),\n",
              "  (20, 1),\n",
              "  (21, 1),\n",
              "  (22, 1),\n",
              "  (23, 1),\n",
              "  (24, 1),\n",
              "  (25, 1),\n",
              "  (26, 1),\n",
              "  (27, 1),\n",
              "  (28, 1)],\n",
              " [(4, 1),\n",
              "  (5, 1),\n",
              "  (13, 1),\n",
              "  (22, 1),\n",
              "  (29, 1),\n",
              "  (30, 1),\n",
              "  (31, 1),\n",
              "  (32, 1),\n",
              "  (33, 1),\n",
              "  (34, 1),\n",
              "  (35, 1),\n",
              "  (36, 1),\n",
              "  (37, 1),\n",
              "  (38, 1)],\n",
              " [(4, 1),\n",
              "  (23, 1),\n",
              "  (37, 1),\n",
              "  (39, 1),\n",
              "  (40, 1),\n",
              "  (41, 1),\n",
              "  (42, 1),\n",
              "  (43, 1),\n",
              "  (44, 1),\n",
              "  (45, 1),\n",
              "  (46, 1),\n",
              "  (47, 1),\n",
              "  (48, 1),\n",
              "  (49, 1)],\n",
              " [(4, 2),\n",
              "  (23, 1),\n",
              "  (31, 1),\n",
              "  (37, 1),\n",
              "  (39, 1),\n",
              "  (41, 1),\n",
              "  (47, 1),\n",
              "  (50, 1),\n",
              "  (51, 1),\n",
              "  (52, 1),\n",
              "  (53, 1),\n",
              "  (54, 1),\n",
              "  (55, 1),\n",
              "  (56, 1),\n",
              "  (57, 1),\n",
              "  (58, 1),\n",
              "  (59, 1)]]"
            ]
          },
          "metadata": {},
          "execution_count": 15
        }
      ]
    },
    {
      "cell_type": "markdown",
      "source": [
        "***BOOK OF WORDS TO TF-IDF***"
      ],
      "metadata": {
        "id": "sFE7fc7sqkEf"
      }
    },
    {
      "cell_type": "code",
      "source": [
        "from gensim import models\n",
        "tfidf = models.TfidfModel(corpus)\n",
        "\n",
        "for document in tfidf[corpus]:\n",
        "       print(document)"
      ],
      "metadata": {
        "colab": {
          "base_uri": "https://localhost:8080/"
        },
        "id": "a5Y9k2B7q2ya",
        "outputId": "c7222fab-f2c4-428b-9e6d-2aa5b64a3b49"
      },
      "execution_count": 16,
      "outputs": [
        {
          "output_type": "stream",
          "name": "stdout",
          "text": [
            "[(0, 0.2962450547827469), (1, 0.2962450547827469), (2, 0.16865925424264971), (3, 0.2962450547827469), (4, 0.0410734537025525), (5, 0.1880526906044076), (6, 0.2962450547827469), (7, 0.2962450547827469), (8, 0.2962450547827469), (9, 0.2962450547827469), (10, 0.2962450547827469), (11, 0.2962450547827469), (12, 0.16865925424264971), (13, 0.16865925424264971), (14, 0.2962450547827469)]\n",
            "[(2, 0.1568564777685206), (5, 0.08744638061977633), (12, 0.1568564777685206), (15, 0.2755138225781003), (16, 0.2755138225781003), (17, 0.2755138225781003), (18, 0.2755138225781003), (19, 0.2755138225781003), (20, 0.2755138225781003), (21, 0.2755138225781003), (22, 0.1568564777685206), (23, 0.08744638061977633), (24, 0.2755138225781003), (25, 0.2755138225781003), (26, 0.2755138225781003), (27, 0.2755138225781003), (28, 0.2755138225781003)]\n",
            "[(4, 0.04572770450007544), (5, 0.10468096898639995), (13, 0.18777092851901314), (22, 0.18777092851901314), (29, 0.32981415253795077), (30, 0.32981415253795077), (31, 0.18777092851901314), (32, 0.32981415253795077), (33, 0.32981415253795077), (34, 0.32981415253795077), (35, 0.32981415253795077), (36, 0.32981415253795077), (37, 0.10468096898639995), (38, 0.32981415253795077)]\n",
            "[(4, 0.04572770450007544), (23, 0.10468096898639995), (37, 0.10468096898639995), (39, 0.18777092851901314), (40, 0.32981415253795077), (41, 0.18777092851901314), (42, 0.32981415253795077), (43, 0.32981415253795077), (44, 0.32981415253795077), (45, 0.32981415253795077), (46, 0.32981415253795077), (47, 0.18777092851901314), (48, 0.32981415253795077), (49, 0.32981415253795077)]\n",
            "[(4, 0.08150452927266587), (23, 0.09329107151036838), (31, 0.16734036080914919), (37, 0.09329107151036838), (39, 0.16734036080914919), (41, 0.16734036080914919), (47, 0.16734036080914919), (50, 0.2939284569819654), (51, 0.2939284569819654), (52, 0.2939284569819654), (53, 0.2939284569819654), (54, 0.2939284569819654), (55, 0.2939284569819654), (56, 0.2939284569819654), (57, 0.2939284569819654), (58, 0.2939284569819654), (59, 0.2939284569819654)]\n"
          ]
        }
      ]
    },
    {
      "cell_type": "markdown",
      "source": [
        "***N GRAMMING***"
      ],
      "metadata": {
        "id": "_n0O6rqLq_Wa"
      }
    },
    {
      "cell_type": "code",
      "source": [
        "corpus = [dictionary.doc2bow(text) for text in texts]\n",
        "corpus"
      ],
      "metadata": {
        "colab": {
          "base_uri": "https://localhost:8080/"
        },
        "id": "iBlbOebirGws",
        "outputId": "abc56ed3-e87d-4a27-9a57-d62a9428700b"
      },
      "execution_count": 17,
      "outputs": [
        {
          "output_type": "execute_result",
          "data": {
            "text/plain": [
              "[[(0, 1),\n",
              "  (1, 1),\n",
              "  (2, 1),\n",
              "  (3, 1),\n",
              "  (4, 1),\n",
              "  (5, 2),\n",
              "  (6, 1),\n",
              "  (7, 1),\n",
              "  (8, 1),\n",
              "  (9, 1),\n",
              "  (10, 1),\n",
              "  (11, 1),\n",
              "  (12, 1),\n",
              "  (13, 1),\n",
              "  (14, 1)],\n",
              " [(2, 1),\n",
              "  (5, 1),\n",
              "  (12, 1),\n",
              "  (15, 1),\n",
              "  (16, 1),\n",
              "  (17, 1),\n",
              "  (18, 1),\n",
              "  (19, 1),\n",
              "  (20, 1),\n",
              "  (21, 1),\n",
              "  (22, 1),\n",
              "  (23, 1),\n",
              "  (24, 1),\n",
              "  (25, 1),\n",
              "  (26, 1),\n",
              "  (27, 1),\n",
              "  (28, 1)],\n",
              " [(4, 1),\n",
              "  (5, 1),\n",
              "  (13, 1),\n",
              "  (22, 1),\n",
              "  (29, 1),\n",
              "  (30, 1),\n",
              "  (31, 1),\n",
              "  (32, 1),\n",
              "  (33, 1),\n",
              "  (34, 1),\n",
              "  (35, 1),\n",
              "  (36, 1),\n",
              "  (37, 1),\n",
              "  (38, 1)],\n",
              " [(4, 1),\n",
              "  (23, 1),\n",
              "  (37, 1),\n",
              "  (39, 1),\n",
              "  (40, 1),\n",
              "  (41, 1),\n",
              "  (42, 1),\n",
              "  (43, 1),\n",
              "  (44, 1),\n",
              "  (45, 1),\n",
              "  (46, 1),\n",
              "  (47, 1),\n",
              "  (48, 1),\n",
              "  (49, 1)],\n",
              " [(4, 2),\n",
              "  (23, 1),\n",
              "  (31, 1),\n",
              "  (37, 1),\n",
              "  (39, 1),\n",
              "  (41, 1),\n",
              "  (47, 1),\n",
              "  (50, 1),\n",
              "  (51, 1),\n",
              "  (52, 1),\n",
              "  (53, 1),\n",
              "  (54, 1),\n",
              "  (55, 1),\n",
              "  (56, 1),\n",
              "  (57, 1),\n",
              "  (58, 1),\n",
              "  (59, 1)]]"
            ]
          },
          "metadata": {},
          "execution_count": 17
        }
      ]
    }
  ]
}