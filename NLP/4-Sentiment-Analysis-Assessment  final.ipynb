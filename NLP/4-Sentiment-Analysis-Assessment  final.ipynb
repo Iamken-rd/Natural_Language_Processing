{
  "cells": [
    {
      "cell_type": "markdown",
      "metadata": {
        "id": "sQezBbdFvdO9"
      },
      "source": [
        "# Sentiment Analysis Assessment - Solution\n",
        "\n",
        "## Task #1: Perform vector arithmetic on your own words\n",
        "Write code that evaluates vector arithmetic on your own set of related words. The goal is to come as close to an expected word as possible. Please feel free to share success stories in the Q&A Forum for this section!"
      ]
    },
    {
      "cell_type": "code",
      "execution_count": 68,
      "metadata": {},
      "outputs": [
        {
          "name": "stdout",
          "output_type": "stream",
          "text": [
            "Requirement already satisfied: spacy in c:\\users\\iamke\\appdata\\local\\programs\\python\\python312\\lib\\site-packages (3.7.4)Note: you may need to restart the kernel to use updated packages.\n",
            "\n",
            "Requirement already satisfied: spacy-legacy<3.1.0,>=3.0.11 in c:\\users\\iamke\\appdata\\local\\programs\\python\\python312\\lib\\site-packages (from spacy) (3.0.12)\n",
            "Requirement already satisfied: spacy-loggers<2.0.0,>=1.0.0 in c:\\users\\iamke\\appdata\\local\\programs\\python\\python312\\lib\\site-packages (from spacy) (1.0.5)\n",
            "Requirement already satisfied: murmurhash<1.1.0,>=0.28.0 in c:\\users\\iamke\\appdata\\local\\programs\\python\\python312\\lib\\site-packages (from spacy) (1.0.10)\n",
            "Requirement already satisfied: cymem<2.1.0,>=2.0.2 in c:\\users\\iamke\\appdata\\local\\programs\\python\\python312\\lib\\site-packages (from spacy) (2.0.8)\n",
            "Requirement already satisfied: preshed<3.1.0,>=3.0.2 in c:\\users\\iamke\\appdata\\local\\programs\\python\\python312\\lib\\site-packages (from spacy) (3.0.9)\n",
            "Requirement already satisfied: thinc<8.3.0,>=8.2.2 in c:\\users\\iamke\\appdata\\local\\programs\\python\\python312\\lib\\site-packages (from spacy) (8.2.3)\n",
            "Requirement already satisfied: wasabi<1.2.0,>=0.9.1 in c:\\users\\iamke\\appdata\\local\\programs\\python\\python312\\lib\\site-packages (from spacy) (1.1.2)\n",
            "Requirement already satisfied: srsly<3.0.0,>=2.4.3 in c:\\users\\iamke\\appdata\\local\\programs\\python\\python312\\lib\\site-packages (from spacy) (2.4.8)\n",
            "Requirement already satisfied: catalogue<2.1.0,>=2.0.6 in c:\\users\\iamke\\appdata\\local\\programs\\python\\python312\\lib\\site-packages (from spacy) (2.0.10)\n",
            "Requirement already satisfied: weasel<0.4.0,>=0.1.0 in c:\\users\\iamke\\appdata\\local\\programs\\python\\python312\\lib\\site-packages (from spacy) (0.3.4)\n",
            "Requirement already satisfied: typer<0.10.0,>=0.3.0 in c:\\users\\iamke\\appdata\\local\\programs\\python\\python312\\lib\\site-packages (from spacy) (0.9.4)\n",
            "Requirement already satisfied: smart-open<7.0.0,>=5.2.1 in c:\\users\\iamke\\appdata\\local\\programs\\python\\python312\\lib\\site-packages (from spacy) (6.4.0)\n",
            "Requirement already satisfied: tqdm<5.0.0,>=4.38.0 in c:\\users\\iamke\\appdata\\local\\programs\\python\\python312\\lib\\site-packages (from spacy) (4.66.4)\n",
            "Requirement already satisfied: requests<3.0.0,>=2.13.0 in c:\\users\\iamke\\appdata\\local\\programs\\python\\python312\\lib\\site-packages (from spacy) (2.31.0)\n",
            "Requirement already satisfied: pydantic!=1.8,!=1.8.1,<3.0.0,>=1.7.4 in c:\\users\\iamke\\appdata\\local\\programs\\python\\python312\\lib\\site-packages (from spacy) (2.7.1)\n",
            "Requirement already satisfied: jinja2 in c:\\users\\iamke\\appdata\\local\\programs\\python\\python312\\lib\\site-packages (from spacy) (3.1.4)\n",
            "Requirement already satisfied: setuptools in c:\\users\\iamke\\appdata\\local\\programs\\python\\python312\\lib\\site-packages (from spacy) (69.5.1)\n",
            "Requirement already satisfied: packaging>=20.0 in c:\\users\\iamke\\appdata\\roaming\\python\\python312\\site-packages (from spacy) (24.0)\n",
            "Requirement already satisfied: langcodes<4.0.0,>=3.2.0 in c:\\users\\iamke\\appdata\\local\\programs\\python\\python312\\lib\\site-packages (from spacy) (3.4.0)\n",
            "Requirement already satisfied: numpy>=1.19.0 in c:\\users\\iamke\\appdata\\local\\programs\\python\\python312\\lib\\site-packages (from spacy) (1.26.4)\n",
            "Requirement already satisfied: language-data>=1.2 in c:\\users\\iamke\\appdata\\local\\programs\\python\\python312\\lib\\site-packages (from langcodes<4.0.0,>=3.2.0->spacy) (1.2.0)\n",
            "Requirement already satisfied: annotated-types>=0.4.0 in c:\\users\\iamke\\appdata\\local\\programs\\python\\python312\\lib\\site-packages (from pydantic!=1.8,!=1.8.1,<3.0.0,>=1.7.4->spacy) (0.6.0)\n",
            "Requirement already satisfied: pydantic-core==2.18.2 in c:\\users\\iamke\\appdata\\local\\programs\\python\\python312\\lib\\site-packages (from pydantic!=1.8,!=1.8.1,<3.0.0,>=1.7.4->spacy) (2.18.2)\n",
            "Requirement already satisfied: typing-extensions>=4.6.1 in c:\\users\\iamke\\appdata\\local\\programs\\python\\python312\\lib\\site-packages (from pydantic!=1.8,!=1.8.1,<3.0.0,>=1.7.4->spacy) (4.11.0)\n",
            "Requirement already satisfied: charset-normalizer<4,>=2 in c:\\users\\iamke\\appdata\\local\\programs\\python\\python312\\lib\\site-packages (from requests<3.0.0,>=2.13.0->spacy) (3.3.2)\n",
            "Requirement already satisfied: idna<4,>=2.5 in c:\\users\\iamke\\appdata\\local\\programs\\python\\python312\\lib\\site-packages (from requests<3.0.0,>=2.13.0->spacy) (3.7)\n",
            "Requirement already satisfied: urllib3<3,>=1.21.1 in c:\\users\\iamke\\appdata\\local\\programs\\python\\python312\\lib\\site-packages (from requests<3.0.0,>=2.13.0->spacy) (2.2.1)\n",
            "Requirement already satisfied: certifi>=2017.4.17 in c:\\users\\iamke\\appdata\\local\\programs\\python\\python312\\lib\\site-packages (from requests<3.0.0,>=2.13.0->spacy) (2024.2.2)\n",
            "Requirement already satisfied: blis<0.8.0,>=0.7.8 in c:\\users\\iamke\\appdata\\local\\programs\\python\\python312\\lib\\site-packages (from thinc<8.3.0,>=8.2.2->spacy) (0.7.11)\n",
            "Requirement already satisfied: confection<1.0.0,>=0.0.1 in c:\\users\\iamke\\appdata\\local\\programs\\python\\python312\\lib\\site-packages (from thinc<8.3.0,>=8.2.2->spacy) (0.1.4)\n",
            "Requirement already satisfied: colorama in c:\\users\\iamke\\appdata\\roaming\\python\\python312\\site-packages (from tqdm<5.0.0,>=4.38.0->spacy) (0.4.6)\n",
            "Requirement already satisfied: click<9.0.0,>=7.1.1 in c:\\users\\iamke\\appdata\\local\\programs\\python\\python312\\lib\\site-packages (from typer<0.10.0,>=0.3.0->spacy) (8.1.7)\n",
            "Requirement already satisfied: cloudpathlib<0.17.0,>=0.7.0 in c:\\users\\iamke\\appdata\\local\\programs\\python\\python312\\lib\\site-packages (from weasel<0.4.0,>=0.1.0->spacy) (0.16.0)\n",
            "Requirement already satisfied: MarkupSafe>=2.0 in c:\\users\\iamke\\appdata\\local\\programs\\python\\python312\\lib\\site-packages (from jinja2->spacy) (2.1.5)\n",
            "Requirement already satisfied: marisa-trie>=0.7.7 in c:\\users\\iamke\\appdata\\local\\programs\\python\\python312\\lib\\site-packages (from language-data>=1.2->langcodes<4.0.0,>=3.2.0->spacy) (1.1.1)\n"
          ]
        },
        {
          "name": "stderr",
          "output_type": "stream",
          "text": [
            "UsageError: Line magic function `%python` not found (But cell magic `%%python` exists, did you mean that instead?).\n"
          ]
        }
      ],
      "source": [
        "%pip install spacy\n",
        "%python -m spacy download en_core_web_md"
      ]
    },
    {
      "cell_type": "code",
      "execution_count": 20,
      "metadata": {
        "id": "0auz9TuUvdPB"
      },
      "outputs": [
        {
          "name": "stdout",
          "output_type": "stream",
          "text": [
            "Word: dinosaur, Vector: [-0.24117  -0.14497  -0.89846  -4.4423   -0.16122  -0.61245  -1.0277\n",
            "  2.3167    2.7852    1.7088   -0.44343  -1.7944    0.50751   2.5181\n",
            "  0.98112  -1.8512    2.1134    1.5012    0.67254  -1.6305    1.0313\n",
            " -0.29278  -2.7653   -1.7402    1.011     0.22308  -0.76345  -1.5518\n",
            "  0.67145   6.4932   -3.0955   -1.0756    0.99101  -0.95852  -0.72608\n",
            " -5.4876    0.6501    1.3857    4.292    -0.75684   0.53387  -0.32617\n",
            " -1.6154    2.5098    0.70027  -0.24889  -0.21528   2.4688    0.76614\n",
            "  0.53889   2.6072    1.595     2.0755   -1.0909    0.56038  -0.22561\n",
            "  1.1664    0.32012   1.2296    1.1628    0.83333  -0.49174   1.3123\n",
            "  1.6414   -0.60928  -0.52892  -3.6051    0.068334 -0.93403  -0.97595\n",
            "  0.91538   1.1731    1.1885   -0.776     1.0642   -1.4605   -1.389\n",
            " -1.1642    1.8358    0.22429  -3.0691    2.1812    0.45715  -1.8221\n",
            "  2.2699   -1.6381    3.2435   -0.049895 -3.4697   -1.7193   -2.5768\n",
            " -2.4069    1.0501   -0.85523   0.60461   0.73904   0.12933   0.69699\n",
            "  0.30747  -0.83729  -0.06172   1.906     1.9791    0.098096 -2.8159\n",
            " -0.57928  -0.93913   0.9421    1.5035    1.0396   -2.3939    1.0389\n",
            "  1.1447    0.68826  -0.61385  -0.63098  -0.52838   0.011912  0.074165\n",
            " -0.28921  -0.59185   1.0076    0.031744  1.3295   -3.4278   -1.5231\n",
            "  0.66131   0.4022    2.1948    0.63636   1.6558    0.89807   1.3628\n",
            " -1.4674    0.55303   1.8611    0.59271  -1.3818   -2.0055   -2.2364\n",
            " -1.0628   -0.73961  -0.021376 -1.1869    0.73186  -1.1391   -1.7512\n",
            "  2.7013   -1.4008   -0.12131   1.3124    2.203     0.79405  -2.6278\n",
            "  0.19071  -0.18802   3.5952    0.39387   3.5093    1.2416    2.9637\n",
            " -1.9501    0.35868  -0.31534  -4.0655   -1.4707   -1.322     2.4396\n",
            "  2.2564    1.4381    1.243    -1.4112   -1.4635    0.52504   0.26528\n",
            "  0.53073   0.31226  -0.35503  -2.0364    0.10426  -1.3117   -3.1264\n",
            "  0.25127  -2.1895   -2.3197   -2.6008   -0.088033  0.30422   0.88134\n",
            " -3.4727    0.30868   1.8728    1.645    -0.065589 -0.21072   2.1235\n",
            " -0.59388   2.668    -0.30387   0.20682  -0.75656  -2.5607    0.90642\n",
            "  2.165     1.444     0.24356  -0.008917 -0.99875   2.72     -3.8759\n",
            "  3.6257    0.94679   0.3345    0.98379  -1.84      0.33546   3.4131\n",
            "  0.95847  -0.10222  -2.92      4.8972   -1.0992   -0.8805    1.8112\n",
            " -1.8347    1.9024    1.2446    1.6077    2.6807    1.8687   -0.41181\n",
            " -0.77461  -1.0557    3.1146   -1.5847    0.93413   0.46115   2.2002\n",
            " -0.59404   0.15965  -2.1037   -0.95947  -0.085855  1.8961   -0.60455\n",
            " -1.3359    2.5356    3.1896    1.3601    3.7935   -0.6247    0.29905\n",
            " -2.1296    0.07044  -3.7491    0.047068  0.47693   2.9094    0.69219\n",
            "  0.65803   1.7936   -0.32255   1.5386    0.85256  -1.6648   -0.61381\n",
            " -2.3915   -0.44493  -0.76153  -0.71264   0.049579 -2.155    -1.943\n",
            " -1.5763    3.322     0.20101   0.55976  -0.28006  -2.8944    3.2655\n",
            " -3.7847   -0.53952  -0.37044  -0.77321   0.97828  -0.86828   0.53125\n",
            "  0.23371  -2.4267    1.4001    3.6369   -3.9443    3.2266    3.2354\n",
            "  0.098688 -0.32771  -0.36869   2.9423   -4.0183   -1.0485  ]\n",
            "Word: reptile, Vector: [-1.1543e+00 -8.1053e-01 -3.3509e+00 -3.9361e+00  3.8488e+00 -8.5645e-01\n",
            " -2.8801e+00  1.9749e+00  1.2590e+00  1.1217e+00  3.3095e-02 -2.6084e+00\n",
            "  2.3988e-01  1.3690e+00  2.2995e+00 -2.3826e+00  2.0300e+00  1.5724e+00\n",
            " -2.2872e+00 -5.9668e+00  1.2591e-01  1.4497e+00 -4.0499e+00 -2.1289e+00\n",
            " -1.4989e+00  8.5397e-01 -2.1173e+00  1.7221e-02  1.6703e+00  4.1822e+00\n",
            " -1.4845e+00 -7.8723e-01 -1.9782e+00 -3.0664e+00 -2.5562e+00 -7.3129e+00\n",
            "  1.4439e+00  1.0688e+00  4.4154e+00 -2.3853e-01 -1.0396e+00  2.8532e+00\n",
            "  8.0861e-01  5.5519e+00 -2.0561e+00  2.7583e-01  3.0268e+00  1.4205e+00\n",
            "  6.2951e-01 -4.4950e-01  2.1602e+00  5.4452e+00  1.4387e+00 -2.8522e+00\n",
            " -2.6521e+00 -1.3361e-01 -1.5081e+00  1.4413e+00  1.9445e+00  4.1909e-01\n",
            " -3.5342e+00  2.7848e+00 -3.6192e-01  1.3850e-01  1.1705e+00  9.1130e-01\n",
            " -5.3598e+00  1.5227e+00 -1.1860e-01 -5.0718e-01  3.3820e+00  1.9856e+00\n",
            "  5.2133e-02  2.3441e-02 -1.9180e+00  1.1902e+00 -4.7825e+00 -2.3894e+00\n",
            " -1.5717e+00  2.8223e+00 -2.5215e+00  1.5505e-01 -1.2864e+00 -3.8601e-01\n",
            "  4.0490e+00 -5.4245e+00 -1.6643e+00  8.5559e-01 -1.0716e+00 -1.8515e+00\n",
            "  1.9876e-01 -1.4753e-01 -4.2872e-01 -1.9246e+00 -4.8691e-01  6.7170e-01\n",
            "  6.1992e-01 -1.3127e+00  8.4489e-01  5.4452e-01  2.0363e+00  7.0160e-01\n",
            "  1.4052e+00  4.2992e-01 -1.7727e+00  3.3135e+00 -2.2514e+00  2.0882e+00\n",
            "  3.1883e+00 -1.2586e+00 -9.0655e-01  7.5992e-01 -5.1308e-01 -1.2817e-01\n",
            " -8.5614e-01 -5.9490e-01  9.4503e-01  2.4413e+00  2.3910e+00 -2.8803e+00\n",
            "  7.7553e-02  1.2659e+00 -2.5878e+00  3.0523e-01 -6.6985e+00 -2.8242e+00\n",
            "  1.2079e+00 -1.8847e+00  1.0983e+00 -1.5678e+00  3.9400e-01  1.4414e+00\n",
            "  2.2185e+00  6.3869e-01  2.3041e+00  2.1125e+00 -2.0304e+00 -1.1883e+00\n",
            "  1.5836e+00 -2.3205e+00 -3.8979e-01 -3.6390e+00 -1.4375e+00 -1.8513e+00\n",
            " -7.5695e-01 -1.7960e-01 -5.0412e+00  3.0435e+00  1.5866e+00 -2.6877e+00\n",
            "  2.0493e+00  1.5872e+00  2.2496e+00 -2.5106e+00  2.7622e-01  1.2708e+00\n",
            "  4.2353e+00 -2.5655e-01  2.7332e+00 -1.3777e-01  3.3093e-01 -2.3832e+00\n",
            " -6.6597e-01  2.4765e-02 -4.5326e+00 -3.0589e-01 -4.6485e+00  5.7052e+00\n",
            "  3.4532e+00  2.7682e+00  1.3457e+00  1.4910e+00  1.1301e+00  8.8714e-01\n",
            "  3.0181e+00  1.1229e+00  2.3331e+00  3.0122e+00 -2.0971e+00 -8.4834e-01\n",
            "  2.2816e-03 -1.9959e+00  2.2245e+00 -1.5436e+00 -1.3711e+00 -1.0611e+00\n",
            "  2.4031e+00  8.7823e-01 -1.2410e+00 -2.1734e+00  1.5473e+00  5.6114e-01\n",
            " -1.0098e+00  9.0993e-01 -7.7261e-01  2.9629e+00 -1.7561e+00 -1.0953e+00\n",
            "  1.3466e-01 -1.0656e+00  8.1057e-01  3.8233e-02 -3.3472e+00  9.0809e-01\n",
            "  4.5635e+00 -9.9490e-01 -1.2631e+00 -1.6526e+00  1.0122e+00 -3.7959e+00\n",
            "  1.5016e+00  2.4743e+00 -1.5257e+00  1.6382e+00 -5.7082e-01  1.7729e+00\n",
            "  2.2829e+00 -1.7662e+00 -1.6829e+00 -2.4497e+00  2.5150e+00 -4.1208e-01\n",
            "  2.0520e+00  2.3513e+00 -1.7891e+00 -4.5659e-01 -6.0045e-01 -1.0916e+00\n",
            "  4.6690e+00 -3.1350e-01 -2.2847e+00  9.5540e-01  3.7996e+00  2.8866e+00\n",
            " -8.4286e-01  2.4251e+00  8.3833e-01  3.8839e+00  8.1868e-01 -3.0049e+00\n",
            " -4.3369e+00 -3.5712e+00  9.0585e-01  7.2235e-01  2.9315e+00  1.4046e+00\n",
            "  2.8112e+00  2.4355e+00  2.0597e+00  5.7109e+00 -6.8846e-01 -1.9186e+00\n",
            " -1.3690e+00 -1.9424e+00 -2.7430e+00 -2.6343e+00 -1.8146e+00  4.3412e+00\n",
            "  3.3010e-01  1.2953e+00  2.1466e+00  4.1859e-01  2.5124e+00  1.3228e+00\n",
            " -1.0219e+00 -2.8459e+00 -2.8590e+00  7.1325e-01  6.0377e-01  1.2835e+00\n",
            "  5.8189e+00 -1.7385e+00  2.4394e+00 -7.7230e-01  1.3539e+00  1.1732e+00\n",
            " -6.4128e-01 -6.7809e-01 -2.8006e+00  2.2002e+00 -1.1905e-01 -7.0038e-01\n",
            "  1.9769e-02 -3.8382e+00  5.8260e+00  4.4801e-01  9.8745e-01  1.3500e+00\n",
            " -5.2963e+00  2.7603e-01  4.3413e+00 -1.0629e+00  2.8025e+00  8.7372e-01\n",
            "  3.2095e-01 -1.1473e+00 -8.0118e-01 -5.5517e-01 -6.0839e+00 -7.3024e-01]\n",
            "Word: bird, Vector: [ 4.8752e+00 -1.9177e+00 -1.3281e+00 -5.2780e+00  2.2977e+00 -4.0337e-01\n",
            " -2.4936e+00  6.3511e-01 -2.1338e+00  2.1657e+00  2.0250e+00 -2.3580e+00\n",
            " -1.8196e+00  2.0501e+00  2.2260e+00 -2.6479e+00  1.0863e+00 -1.2641e-01\n",
            "  1.2737e-02 -2.7862e+00  6.1809e-02  1.8559e+00 -1.8695e+00 -3.8504e+00\n",
            "  2.9412e-02 -1.0008e+00 -6.3603e+00 -3.1532e+00 -2.0192e+00  4.5596e-01\n",
            " -5.9694e+00 -1.0371e+00 -3.6569e+00 -4.6753e+00 -6.4009e-01 -5.1673e+00\n",
            "  9.0195e-01  2.6397e+00  7.5961e+00 -7.6030e-01  7.2796e-01  2.8003e-01\n",
            "  5.3989e+00  3.0804e+00  1.2931e+00 -2.0397e-01 -1.3572e-01  8.5214e-01\n",
            "  2.5436e-01 -2.5778e+00  1.9308e+00  5.3284e+00  2.5053e-01 -3.5038e+00\n",
            " -5.2012e+00 -6.1424e-01  1.2946e+00  2.7421e+00  3.8555e+00 -1.6269e+00\n",
            " -2.5239e+00 -3.2949e+00  2.2917e+00  2.0811e+00 -4.0013e+00 -1.3769e+00\n",
            " -3.5829e+00  5.5897e-01 -2.7323e+00 -3.2273e+00  3.7429e+00  9.6510e-01\n",
            " -1.4929e+00  1.9718e+00 -2.8817e+00 -1.6609e-01 -2.4165e+00 -4.3355e+00\n",
            " -3.2786e+00 -2.5969e+00  4.8172e-02  8.0346e-01 -1.7625e-01 -4.6015e+00\n",
            "  6.5012e-01 -2.4466e+00  4.7573e-01  4.8868e+00 -7.6612e+00 -3.7723e+00\n",
            " -1.6161e+00 -1.0325e+00  3.2214e+00 -2.6253e+00  4.0072e-01 -4.2310e+00\n",
            "  4.9324e-01 -5.2802e-01  1.6323e+00 -5.7192e+00 -1.1281e+00  2.8162e+00\n",
            "  2.2686e+00  7.7407e-01  2.1147e-01  2.3703e-02 -3.8765e+00  5.2648e+00\n",
            "  1.9074e+00  2.6920e+00 -3.5564e+00  3.2512e+00  2.8610e+00 -1.1225e+00\n",
            " -2.5790e+00  8.3732e-01  6.9500e+00  4.4875e+00  1.3439e+00 -1.6353e+00\n",
            "  2.4367e+00 -7.9529e-02 -8.4602e+00  4.9978e+00 -9.0782e+00 -1.8984e+00\n",
            "  7.0468e+00  1.7881e+00  3.2734e+00 -1.8575e+00  1.2775e+00  4.7731e+00\n",
            "  4.2158e+00 -3.1351e+00  9.6929e-01  3.6016e+00 -1.2736e+00  2.3304e+00\n",
            " -2.6123e+00 -2.7960e+00 -5.9142e+00  1.0037e+00 -2.8974e+00 -2.7678e+00\n",
            "  1.3909e+00 -3.1477e+00 -1.8772e+00  4.6817e+00 -1.8156e+00 -1.9845e+00\n",
            "  1.9136e+00  3.0429e+00  3.0074e+00 -3.2665e+00  2.8475e+00 -3.9621e-01\n",
            "  5.2908e+00  2.2181e+00  2.8438e+00  1.4016e+00  1.4229e+00 -5.6621e-01\n",
            "  4.9043e+00 -8.0237e-01 -2.9906e+00 -7.3930e-02 -4.8931e+00  4.3442e+00\n",
            "  1.2363e+00 -2.5112e-03 -1.7526e+00  3.0498e+00  1.0884e+00  2.4357e+00\n",
            " -7.8494e-01 -7.0530e-01  1.7074e+00 -9.3625e-01 -1.0767e+00 -4.0430e-01\n",
            " -1.0351e+00 -2.0254e+00 -2.2802e-01  6.6464e-01  1.9955e+00 -3.8731e+00\n",
            "  4.8632e+00 -4.5866e+00  1.5287e+00 -1.3631e+00  2.5806e+00  3.6209e-01\n",
            " -6.9812e+00 -5.2036e+00  1.5165e+00  1.4561e+00 -1.8617e+00  3.3815e+00\n",
            "  1.1203e-01 -3.6844e-01 -1.6650e+00  3.2943e+00 -8.1965e-01  2.5401e+00\n",
            "  1.4433e+00 -2.7053e+00 -1.2671e+00 -2.1121e+00  2.2171e+00 -3.1625e+00\n",
            "  5.7765e+00  1.7498e+00 -1.5690e+00  1.9810e-01 -9.9736e-01  9.9080e-01\n",
            "  6.9897e+00  1.5709e+00 -4.3856e+00 -2.7731e+00  5.5969e+00 -5.6440e+00\n",
            "  4.8010e-01  4.6590e+00  3.4469e-02  1.2265e+00  2.3536e+00 -1.4121e+00\n",
            "  4.6513e+00  2.3206e+00  6.9372e-01 -8.7487e-01  3.5753e+00  1.7581e+00\n",
            " -5.3767e+00 -2.0822e-02 -6.4192e+00  6.8944e+00 -3.3407e+00 -1.3729e+00\n",
            "  1.4526e+00 -1.2103e+00  1.1590e+00 -5.4046e+00  1.7555e+00  5.0429e-01\n",
            " -2.2573e+00  2.9060e+00 -1.7255e+00  4.1206e+00  7.4129e-02 -2.6569e+00\n",
            " -2.9200e-01 -8.3106e-01 -4.9473e+00 -2.8816e+00  9.8027e-02  9.1158e+00\n",
            "  1.5023e+00  3.6908e+00  1.2630e+00  1.9085e-01  3.6661e-01  2.1434e-01\n",
            " -2.5377e+00 -2.6415e+00 -7.7279e+00  8.5694e-01 -3.6493e+00  2.5356e+00\n",
            "  4.7795e+00  2.9017e-01 -1.4933e+00 -4.1336e+00  2.4293e+00 -2.0674e+00\n",
            " -6.6418e-01 -1.0381e+00 -1.9326e+00  5.0011e+00 -4.1664e+00 -6.3890e-01\n",
            "  5.2214e-02 -3.9851e+00  3.1665e+00  1.4175e+00 -4.3134e+00  2.5104e+00\n",
            " -1.1334e+00 -1.5715e-01  5.3439e+00  6.7474e-01  3.5610e+00  2.5536e-01\n",
            "  8.2551e-01 -2.1768e+00  1.1419e+00  2.4620e+00 -9.0045e+00 -6.7629e-01]\n"
          ]
        }
      ],
      "source": [
        "import requests\n",
        "from bs4 import BeautifulSoup\n",
        "import spacy\n",
        "\n",
        "\n",
        "url = \"https://simple.wikipedia.org/wiki/Dinosaur\"\n",
        "response = requests.get(url)\n",
        "if response.status_code == 200:\n",
        "    soup = BeautifulSoup(response.content, \"html.parser\")\n",
        "    \n",
        "    paragraphs = soup.find_all(\"p\")\n",
        "    text = \" \".join(paragraph.get_text() for paragraph in paragraphs)\n",
        "    nlp = spacy.load(\"en_core_web_md\")\n",
        "    doc = nlp(text)\n",
        "    words_to_compare = [\"dinosaur\", \"reptile\", \"bird\"]\n",
        "    word_vectors = {}\n",
        "    for word in words_to_compare:\n",
        "        token = nlp.vocab[word]\n",
        "        if token.has_vector:\n",
        "            word_vectors[word] = token.vector\n",
        "        else:\n",
        "            print(f\"Word '{word}' does not have a word vector in spaCy's vocabulary.\")\n",
        "    for word, vector in word_vectors.items():\n",
        "        print(f\"Word: {word}, Vector: {vector}\")\n",
        "else:\n",
        "    print(\"Failed to retrieve webpage. Status code:\", response.status_code)\n"
      ]
    },
    {
      "cell_type": "code",
      "execution_count": 67,
      "metadata": {
        "id": "E5Bq_U_qvdPC"
      },
      "outputs": [],
      "source": [
        "import spacy\n",
        "import numpy as np\n",
        "\n",
        "nlp = spacy.load(\"en_core_web_md\")\n",
        "\n",
        "def cosine_similarity(vec1, vec2):\n",
        "\n",
        "    dot_product = np.dot(vec1, vec2)\n",
        "    mag1 = np.linalg.norm(vec1)\n",
        "    mag2 = np.linalg.norm(vec2)\n",
        "    if mag1 != 0 and mag2 != 0:\n",
        "        similarity = dot_product / (mag1 * mag2)\n",
        "    else:\n",
        "        similarity = 0.0 \n",
        "    \n",
        "    return similarity\n"
      ]
    },
    {
      "cell_type": "code",
      "execution_count": 66,
      "metadata": {
        "id": "oH--JaGyvdPC"
      },
      "outputs": [],
      "source": [
        "nlp = spacy.load(\"en_core_web_md\")\n",
        "word1 = \"Trex\"\n",
        "word2 = \"reptile\"\n",
        "word3 = \"bird\"\n",
        "\n",
        "vector1 = nlp.vocab[word1].vector\n",
        "vector2 = nlp.vocab[word2].vector\n",
        "vector3 = nlp.vocab[word3].vector\n",
        "\n",
        "new_vector = vector1 - vector2 + vector3\n"
      ]
    },
    {
      "cell_type": "code",
      "execution_count": 64,
      "metadata": {
        "colab": {
          "base_uri": "https://localhost:8080/"
        },
        "id": "fFezXABpvdPC",
        "outputId": "c8df0114-3c6f-4f9a-c387-47c1e91784d0"
      },
      "outputs": [],
      "source": [
        "\n",
        "similarities = []\n",
        "for word in nlp.vocab:\n",
        "    if word.has_vector:\n",
        "        similarity = np.dot(new_vector, word.vector) / (np.linalg.norm(new_vector) * np.linalg.norm(word.vector))\n",
        "        similarities.append((word.text, similarity))\n",
        "\n",
        "similarities.sort(key=lambda x: x[1], reverse=True)\n",
        "\n",
        "top_ten = similarities[:10]\n",
        "for word, similarity in top_ten:\n",
        "    print(f\"{word}: {similarity}\")"
      ]
    },
    {
      "cell_type": "markdown",
      "metadata": {
        "id": "0wSPvbTxvdPD"
      },
      "source": [
        "#### CHALLENGE: Write a function that takes in 3 strings, performs a-b+c arithmetic, and returns a top-ten result"
      ]
    },
    {
      "cell_type": "code",
      "execution_count": 63,
      "metadata": {
        "id": "Y1h8ngSQvdPD"
      },
      "outputs": [],
      "source": [
        "def vector_math(a, b, c):\n",
        " \n",
        "    a_vec = nlp.vocab[a].vector\n",
        "    b_vec = nlp.vocab[b].vector\n",
        "    c_vec = nlp.vocab[c].vector\n",
        "\n",
        "    cosine_similarity = lambda x, y: 1 - spatial.distance.cosine(x, y)\n",
        "    \n",
        "    new_vector = a_vec - b_vec + c_vec\n",
        "  \n",
        "    computed_similarities = []\n",
        "\n",
        "    for word in nlp.vocab:\n",
        "      \n",
        "        if word.has_vector and word.is_lower and word.is_alpha:\n",
        "            similarity = cosine_similarity(new_vector, word.vector)\n",
        "            computed_similarities.append((word, similarity))\n",
        "\n",
        "\n",
        "    computed_similarities = sorted(computed_similarities, key=lambda item: -item[1])\n",
        "\n",
        "    return [w[0].text for w in computed_similarities[:10]]\n",
        "\n"
      ]
    },
    {
      "cell_type": "code",
      "execution_count": 38,
      "metadata": {
        "colab": {
          "base_uri": "https://localhost:8080/"
        },
        "id": "XSFirQjpvdPD",
        "outputId": "9da3a81d-d452-48e4-c73e-f2623c6e457c"
      },
      "outputs": [
        {
          "data": {
            "text/plain": [
              "['king', 'she', 'was', 'who', 'and', 'co', 'where', 'he', 'were', 'had']"
            ]
          },
          "execution_count": 38,
          "metadata": {},
          "output_type": "execute_result"
        }
      ],
      "source": [
        "\n",
        "vector_math('King','man','woman')"
      ]
    },
    {
      "cell_type": "markdown",
      "metadata": {
        "id": "Of75LLZbvdPD"
      },
      "source": [
        "## Task #2: Perform VADER Sentiment Analysis on your own review\n",
        "Write code that returns a set of SentimentIntensityAnalyzer polarity scores based on your own written review."
      ]
    },
    {
      "cell_type": "code",
      "execution_count": 43,
      "metadata": {
        "colab": {
          "base_uri": "https://localhost:8080/"
        },
        "id": "7kGGSny0vdPD",
        "outputId": "c8c518c3-038f-4b67-ba15-9847194e2206"
      },
      "outputs": [
        {
          "name": "stdout",
          "output_type": "stream",
          "text": [
            "Collecting vaderSentiment\n",
            "  Downloading vaderSentiment-3.3.2-py2.py3-none-any.whl.metadata (572 bytes)\n",
            "Requirement already satisfied: requests in c:\\users\\iamke\\appdata\\local\\programs\\python\\python312\\lib\\site-packages (from vaderSentiment) (2.31.0)\n",
            "Requirement already satisfied: charset-normalizer<4,>=2 in c:\\users\\iamke\\appdata\\local\\programs\\python\\python312\\lib\\site-packages (from requests->vaderSentiment) (3.3.2)\n",
            "Requirement already satisfied: idna<4,>=2.5 in c:\\users\\iamke\\appdata\\local\\programs\\python\\python312\\lib\\site-packages (from requests->vaderSentiment) (3.7)\n",
            "Requirement already satisfied: urllib3<3,>=1.21.1 in c:\\users\\iamke\\appdata\\local\\programs\\python\\python312\\lib\\site-packages (from requests->vaderSentiment) (2.2.1)\n",
            "Requirement already satisfied: certifi>=2017.4.17 in c:\\users\\iamke\\appdata\\local\\programs\\python\\python312\\lib\\site-packages (from requests->vaderSentiment) (2024.2.2)\n",
            "Downloading vaderSentiment-3.3.2-py2.py3-none-any.whl (125 kB)\n",
            "   ---------------------------------------- 0.0/126.0 kB ? eta -:--:--\n",
            "   --- ------------------------------------ 10.2/126.0 kB ? eta -:--:--\n",
            "   ------------------- ------------------- 61.4/126.0 kB 825.8 kB/s eta 0:00:01\n",
            "   ---------------------------------------  122.9/126.0 kB 1.2 MB/s eta 0:00:01\n",
            "   ---------------------------------------  122.9/126.0 kB 1.2 MB/s eta 0:00:01\n",
            "   ---------------------------------------  122.9/126.0 kB 1.2 MB/s eta 0:00:01\n",
            "   ---------------------------------------  122.9/126.0 kB 1.2 MB/s eta 0:00:01\n",
            "   -------------------------------------- 126.0/126.0 kB 436.6 kB/s eta 0:00:00\n",
            "Installing collected packages: vaderSentiment\n",
            "Successfully installed vaderSentiment-3.3.2\n",
            "Note: you may need to restart the kernel to use updated packages.\n"
          ]
        }
      ],
      "source": [
        "%pip install vaderSentiment\n",
        "from vaderSentiment.vaderSentiment import SentimentIntensityAnalyzer"
      ]
    },
    {
      "cell_type": "code",
      "execution_count": 46,
      "metadata": {
        "id": "oAIEtdlovdPE"
      },
      "outputs": [],
      "source": [
        "\n",
        "review = \"I like it. It's good.\"\n"
      ]
    },
    {
      "cell_type": "code",
      "execution_count": 59,
      "metadata": {
        "colab": {
          "base_uri": "https://localhost:8080/"
        },
        "id": "Tf1DERiBvdPE",
        "outputId": "0a4dfdb5-13a4-4e01-ecbb-7724e3379d54"
      },
      "outputs": [
        {
          "name": "stdout",
          "output_type": "stream",
          "text": [
            "Sentiment Scores:\n",
            "Positive: 0\n",
            "Negative: 0\n",
            "Neutral: 24\n"
          ]
        }
      ],
      "source": [
        "for token in doc:\n",
        "    if token.sentiment == 0.0:\n",
        "        sentiment_scores[\"neutral\"] += 1\n",
        "    elif token.sentiment > 0.0:\n",
        "        sentiment_scores[\"positive\"] += 1\n",
        "    else:\n",
        "        sentiment_scores[\"negative\"] += 1\n",
        "\n",
        "print(\"Sentiment Scores:\")\n",
        "for sentiment, score in sentiment_scores.items():\n",
        "    print(f\"{sentiment.capitalize()}: {score}\")\n"
      ]
    },
    {
      "cell_type": "markdown",
      "metadata": {
        "id": "FBnSK4kwvdPF"
      },
      "source": [
        "### CHALLENGE: Write a function that takes in a review and returns a score of \"Positive\", \"Negative\" or \"Neutral\""
      ]
    },
    {
      "cell_type": "code",
      "execution_count": 62,
      "metadata": {
        "id": "Ox_cS_BEvdPF"
      },
      "outputs": [],
      "source": [
        "nlp = spacy.load(\"en_core_web_sm\")\n",
        "\n",
        "def review_rating(review):\n",
        "    doc = nlp(review)\n",
        "    positive_count = 0\n",
        "    negative_count = 0\n",
        "    neutral_count = 0\n",
        "\n",
        "    for token in doc:\n",
        "        if token.sentiment == 0.0:\n",
        "            neutral_count += 1\n",
        "        elif token.sentiment > 0.0:\n",
        "            positive_count += 1\n",
        "        else:\n",
        "            negative_count += 1\n",
        "            \n",
        "    if positive_count > negative_count and positive_count > neutral_count:\n",
        "        return \"Positive\"\n",
        "    elif negative_count > positive_count and negative_count > neutral_count:\n",
        "        return \"Negative\"\n",
        "    else:\n",
        "        return \"Neutral\"\n",
        "\n"
      ]
    },
    {
      "cell_type": "code",
      "execution_count": 61,
      "metadata": {
        "colab": {
          "base_uri": "https://localhost:8080/",
          "height": 35
        },
        "id": "Y-Ph6ImFvdPG",
        "outputId": "7abc526b-6b25-4a4c-a130-9e39b0552a9f"
      },
      "outputs": [
        {
          "data": {
            "text/plain": [
              "'Neutral'"
            ]
          },
          "execution_count": 61,
          "metadata": {},
          "output_type": "execute_result"
        }
      ],
      "source": [
        "\n",
        "review_rating(review)"
      ]
    }
  ],
  "metadata": {
    "colab": {
      "provenance": [],
      "toc_visible": true
    },
    "kernelspec": {
      "display_name": "Python 3 (ipykernel)",
      "language": "python",
      "name": "python3"
    },
    "language_info": {
      "codemirror_mode": {
        "name": "ipython",
        "version": 3
      },
      "file_extension": ".py",
      "mimetype": "text/x-python",
      "name": "python",
      "nbconvert_exporter": "python",
      "pygments_lexer": "ipython3",
      "version": "3.12.3"
    }
  },
  "nbformat": 4,
  "nbformat_minor": 0
}
